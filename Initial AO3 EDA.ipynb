{
 "cells": [
  {
   "cell_type": "markdown",
   "id": "873b3a67",
   "metadata": {},
   "source": [
    "# Archive of Our Own (AO3) Dataset\n",
    "*Exploratory Data Analysis*\n",
    "\n",
    "**Lindsay Hodgens**\n",
    "\n",
    "---\n",
    "\n",
    "# To Do:\n",
    "\n",
    "<ul>\n",
    "    <li>Figure out what needs to be done with the headers. Right now both \"tags\" and \"works\" contain headers and observations.</li>\n",
    "    <li>[Write this up in document once figured out] Looking at the first few rows for the \"tags\" dataset, it looks like I'll need to create different subsets of tags. The ones that show up in the first few rows are media types, but there are also tags for specific works, character pairings, and thematic tags. Bare minimum, breaking these down into subsets would give us more flexibility as we start to work through everything.</li>\n",
    "</ul>\n",
    "---\n",
    "\n",
    "# Starting Questions/Interests\n",
    "\n",
    "<ul>\n",
    "    <li>How many works does a given user typically produce? What does the distribution look like?\n",
    "        <ul>\n",
    "            <li>Does this differ from fandom to fandom, or is it fairly consistent across the whole archive?</li>\n",
    "            <li>Is there any way we could account for pseuds? If not, any conclusions would need to be framed carefully.</li>\n",
    "        </ul>\n",
    "    </li>\n",
    "    <li>What kinds of thematic tags are the most popular?\n",
    "        <ul>\n",
    "            <li>Again, does this differ from fandom to fandom? (Or, perhaps a more reasonable question would be: To what degree does it differ from fandom to fandom?) To what degree do 'mainstay' tags show up time and time again?</li>\n",
    "            <li>What do the trends look like for different-sex pairings versus same-sex pairings? Is there any way to examine that with the data we have on hand? I suspect that this could be done for a single fandom, but not for the entire dataset. If I'm understanding the task correctly, you'd have to go through and use a lookup table (or something) to identify the gender of each character.</li>\n",
    "            <ul>\n",
    "                <li>Along these lines, it would also be interesting to see what kinds of patterns are associated with gender-bending. Does this tend to happen for different-sex pairings at the same rate as same-sex pairings? When it does happen, is gender-bending typically limited to romantic pairings, or are other characters also gender-bent despite not being involved in the main investments of the plot?</li>\n",
    "            </ul>\n",
    "        </ul>\n",
    "    </li>\n",
    "</ul>\n",
    "\n",
    "---\n",
    "\n",
    "# 1 - Import, Import, Import"
   ]
  },
  {
   "cell_type": "code",
   "execution_count": 11,
   "id": "db5dcfd8",
   "metadata": {},
   "outputs": [],
   "source": [
    "# Libraries\n",
    "\n",
    "import pandas as pd\n",
    "import numpy as np\n",
    "import seaborn\n",
    "\n",
    "# Data\n",
    "tags = pd.read_csv(\"tags-20210226.csv\")\n",
    "works = pd.read_csv(\"works-20210226.csv\")"
   ]
  },
  {
   "cell_type": "markdown",
   "id": "9657cf72",
   "metadata": {},
   "source": [
    "# 2 - First Impressions  \n",
    "\n",
    "## 2.1 - Tags"
   ]
  },
  {
   "cell_type": "code",
   "execution_count": 10,
   "id": "a81169ae",
   "metadata": {},
   "outputs": [
    {
     "name": "stdout",
     "output_type": "stream",
     "text": [
      "   id   type                                name  canonical  cached_count  \\\n",
      "0   1  Media                            TV Shows       True           910   \n",
      "1   2  Media                              Movies       True          1164   \n",
      "2   3  Media                  Books & Literature       True           134   \n",
      "3   4  Media  Cartoons & Comics & Graphic Novels       True           166   \n",
      "4   5  Media                       Anime & Manga       True           501   \n",
      "\n",
      "   merger_id  \n",
      "0        NaN  \n",
      "1        NaN  \n",
      "2        NaN  \n",
      "3        NaN  \n",
      "4        NaN  \n"
     ]
    }
   ],
   "source": [
    "print(tags[:5])"
   ]
  },
  {
   "cell_type": "markdown",
   "id": "a67d5dd0",
   "metadata": {},
   "source": [
    "## 2.2 - Works"
   ]
  },
  {
   "cell_type": "code",
   "execution_count": 12,
   "id": "00cb5814",
   "metadata": {},
   "outputs": [
    {
     "name": "stdout",
     "output_type": "stream",
     "text": [
      "  creation date language  restricted  complete  word_count  \\\n",
      "0    2021-02-26       en       False      True       388.0   \n",
      "1    2021-02-26       en       False      True      1638.0   \n",
      "2    2021-02-26       en       False      True      1502.0   \n",
      "3    2021-02-26       en       False      True       100.0   \n",
      "4    2021-02-26       en       False      True       994.0   \n",
      "\n",
      "                                                tags  Unnamed: 6  \n",
      "0  10+414093+1001939+4577144+1499536+110+4682892+...         NaN  \n",
      "1  10+20350917+34816907+23666027+23269305+2326930...         NaN  \n",
      "2  10+10613413+9780526+3763877+3741104+7657229+30...         NaN  \n",
      "3  10+15322+54862755+20595867+32994286+663+471751...         NaN  \n",
      "4  11+721553+54604+1439500+3938423+53483274+54862...         NaN  \n"
     ]
    }
   ],
   "source": [
    "print(works[:5])"
   ]
  },
  {
   "cell_type": "code",
   "execution_count": null,
   "id": "67d3ef89",
   "metadata": {},
   "outputs": [],
   "source": []
  }
 ],
 "metadata": {
  "kernelspec": {
   "display_name": "Python 3 (ipykernel)",
   "language": "python",
   "name": "python3"
  },
  "language_info": {
   "codemirror_mode": {
    "name": "ipython",
    "version": 3
   },
   "file_extension": ".py",
   "mimetype": "text/x-python",
   "name": "python",
   "nbconvert_exporter": "python",
   "pygments_lexer": "ipython3",
   "version": "3.9.7"
  }
 },
 "nbformat": 4,
 "nbformat_minor": 5
}
